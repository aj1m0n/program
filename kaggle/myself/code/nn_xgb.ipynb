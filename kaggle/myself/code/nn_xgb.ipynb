{
 "cells": [
  {
   "cell_type": "code",
   "execution_count": 1,
   "metadata": {
    "collapsed": false,
    "scrolled": true
   },
   "outputs": [
    {
     "name": "stderr",
     "output_type": "stream",
     "text": [
      "Using TensorFlow backend.\n"
     ]
    },
    {
     "name": "stdout",
     "output_type": "stream",
     "text": [
      "CPU times: user 10min 29s, sys: 50.6 s, total: 11min 20s\n",
      "Wall time: 7min 5s\n",
      "Fitting 4 folds for each of 50 candidates, totalling 200 fits\n"
     ]
    },
    {
     "name": "stderr",
     "output_type": "stream",
     "text": [
      "/home/iwailab-ml/.pyenv/versions/anaconda3-4.2.0/lib/python3.5/site-packages/pandas/core/indexing.py:132: SettingWithCopyWarning: \n",
      "A value is trying to be set on a copy of a slice from a DataFrame\n",
      "\n",
      "See the caveats in the documentation: http://pandas.pydata.org/pandas-docs/stable/indexing.html#indexing-view-versus-copy\n",
      "  self._setitem_with_indexer(indexer, value)\n"
     ]
    },
    {
     "name": "stdout",
     "output_type": "stream",
     "text": [
      "Best parameters found:  {'learning_rate': 0.6, 'n_estimators': 19, 'colsample_bytree': 0.4, 'max_depth': 7}\n",
      "Best accuracy found:  0.852974186308\n"
     ]
    },
    {
     "name": "stderr",
     "output_type": "stream",
     "text": [
      "[Parallel(n_jobs=1)]: Done 200 out of 200 | elapsed:    1.1s finished\n"
     ]
    }
   ],
   "source": [
    "\n",
    "# coding: utf-8\n",
    "\n",
    "# In[1]:\n",
    "\n",
    "#import subprocess\n",
    "#subprocess.run(['jupyter', 'nbconvert', '--to', 'python', 'light_NN.ipynb'])\n",
    "\n",
    "import pandas as pd \n",
    "import numpy as np\n",
    "from sklearn.ensemble import RandomForestClassifier \n",
    "\n",
    "from __future__ import print_function\n",
    "import numpy as np\n",
    "import pandas as pd\n",
    "from keras.models import Sequential\n",
    "from keras.optimizers import SGD, RMSprop, Adam\n",
    "from keras.layers import Dense, Activation, Dropout\n",
    "\n",
    "import copy\n",
    "\n",
    "\n",
    "# ## Preprocessing\n",
    "\n",
    "# In[2]:\n",
    "\n",
    "\n",
    "train= pd.read_csv(\"../data/train.csv\")\n",
    "test= pd.read_csv(\"../data/test.csv\")\n",
    "#train.head(3)\n",
    "\n",
    "\n",
    "# In[3]:\n",
    "\n",
    "train= pd.read_csv(\"../data/train.csv\").replace(\"male\",0).replace(\"female\",1).replace(\"S\",0).replace(\"C\",1).replace(\"Q\",2)\n",
    "test= pd.read_csv(\"../data/test.csv\").replace(\"male\",0).replace(\"female\",1).replace(\"S\",0).replace(\"C\",1).replace(\"Q\",2)\n",
    "combine1 = [train]\n",
    "\n",
    "for train in combine1: \n",
    "        train['Salutation'] = train.Name.str.extract(' ([A-Za-z]+).', expand=False) \n",
    "for train in combine1: \n",
    "        train['Salutation'] = train['Salutation'].replace(['Lady', 'Countess','Capt', 'Col','Don', 'Dr', 'Major', 'Rev', 'Sir', 'Jonkheer', 'Dona'], 'Rare')\n",
    "        train['Salutation'] = train['Salutation'].replace('Mlle', 'Miss')\n",
    "        train['Salutation'] = train['Salutation'].replace('Ms', 'Miss')\n",
    "        train['Salutation'] = train['Salutation'].replace('Mme', 'Mrs')\n",
    "        del train['Name']\n",
    "Salutation_mapping = {\"Mr\": 1, \"Miss\": 2, \"Mrs\": 3, \"Master\": 4, \"Rare\": 5} \n",
    "\n",
    "for train in combine1: \n",
    "        train['Salutation'] = train['Salutation'].map(Salutation_mapping) \n",
    "        train['Salutation'] = train['Salutation'].fillna(0)\n",
    "        \n",
    "for train in combine1: \n",
    "        train['Ticket_Lett'] = train['Ticket'].apply(lambda x: str(x)[0])\n",
    "        train['Ticket_Lett'] = train['Ticket_Lett'].apply(lambda x: str(x)) \n",
    "        train['Ticket_Lett'] = np.where((train['Ticket_Lett']).isin(['1', '2', '3', 'S', 'P', 'C', 'A']), train['Ticket_Lett'], np.where((train['Ticket_Lett']).isin(['W', '4', '7', '6', 'L', '5', '8']), '0','0')) \n",
    "        train['Ticket_Len'] = train['Ticket'].apply(lambda x: len(x)) \n",
    "        del train['Ticket'] \n",
    "train['Ticket_Lett']=train['Ticket_Lett'].replace(\"1\",1).replace(\"2\",2).replace(\"3\",3).replace(\"0\",0).replace(\"S\",3).replace(\"P\",0).replace(\"C\",3).replace(\"A\",3)\n",
    "\n",
    "for train in combine1: \n",
    "    train['Cabin_Lett'] = train['Cabin'].apply(lambda x: str(x)[0]) \n",
    "    train['Cabin_Lett'] = train['Cabin_Lett'].apply(lambda x: str(x)) \n",
    "    train['Cabin_Lett'] = np.where((train['Cabin_Lett']).isin([ 'F', 'E', 'D', 'C', 'B', 'A']),train['Cabin_Lett'], np.where((train['Cabin_Lett']).isin(['W', '4', '7', '6', 'L', '5', '8']), '0','0'))\n",
    "del train['Cabin'] \n",
    "train['Cabin_Lett']=train['Cabin_Lett'].replace(\"A\",1).replace(\"B\",2).replace(\"C\",1).replace(\"0\",0).replace(\"D\",2).replace(\"E\",2).replace(\"F\",1)\n",
    "\n",
    "\n",
    "\n",
    "# In[4]:\n",
    "\n",
    "train.head()\n",
    "\n",
    "\n",
    "# ## Preprocessing　wish NN\n",
    "\n",
    "# In[5]:\n",
    "\n",
    "train_drop_age = copy.deepcopy(train)\n",
    "\n",
    "\n",
    "# In[6]:\n",
    "\n",
    "train_drop_age.dropna(inplace=True)\n",
    "\n",
    "\n",
    "# In[7]:\n",
    "\n",
    "for_age_train = train_drop_age.drop(['Survived'], axis=1).dropna(axis=0)\n",
    "X_train_age = train_drop_age.drop('Age', axis=1)\n",
    "y_train_age = train_drop_age['Age']\n",
    "\n",
    "\n",
    "# In[8]:\n",
    "\n",
    "# create model\n",
    "tmodel = Sequential()\n",
    "tmodel.add(Dense(input_dim=X_train_age.shape[1], units=128,\n",
    "                 kernel_initializer='normal', bias_initializer='zeros'))\n",
    "tmodel.add(Activation('relu'))\n",
    "\n",
    "for i in range(0, 8):\n",
    "    tmodel.add(Dense(units=64, kernel_initializer='normal',\n",
    "                     bias_initializer='zeros'))\n",
    "    tmodel.add(Activation('relu'))\n",
    "    tmodel.add(Dropout(.25))\n",
    "\n",
    "tmodel.add(Dense(units=1))\n",
    "tmodel.add(Activation('linear'))\n",
    "\n",
    "tmodel.compile(loss='mean_squared_error', optimizer='adam')\n",
    "\n",
    "\n",
    "# In[9]:\n",
    "\n",
    "get_ipython().run_cell_magic('time', '', 'tmodel.fit(X_train_age.values, y_train_age.values, epochs=5000, verbose=0)')\n",
    "\n",
    "\n",
    "# In[10]:\n",
    "\n",
    "to_pred = train.loc[train['Age'].isnull()].drop(['Age'], axis=1)\n",
    "\n",
    "\n",
    "# In[11]:\n",
    "\n",
    "to_pred.head()\n",
    "\n",
    "\n",
    "# In[12]:\n",
    "\n",
    "p = tmodel.predict(to_pred.values)\n",
    "train['Age'].loc[train['Age'].isnull()] = p.reshape(177,)\n",
    "train['Age']=np.round(train['Age'])\n",
    "\n",
    "\n",
    "# In[13]:\n",
    "\n",
    "train[\"FamilySize\"] = train[\"SibSp\"] + train[\"Parch\"] + 1\n",
    "for train in combine1:\n",
    "    train['IsAlone'] = 0\n",
    "    train.loc[train['FamilySize'] == 1, 'IsAlone'] = 1\n",
    "\n",
    "\n",
    "# In[14]:\n",
    "\n",
    "train[\"Embarked\"].fillna(train.Embarked.mean(), inplace=True)\n",
    "train_data = train.values\n",
    "xs = train_data[:, 2:] # Pclass以降の変数\n",
    "y  = train_data[:, 1]  # 正解データ\n",
    "\n",
    "\n",
    "# In[15]:\n",
    "\n",
    "test= pd.read_csv(\"../data/test.csv\")\n",
    "test= pd.read_csv(\"../data/test.csv\").replace(\"male\",0).replace(\"female\",1).replace(\"S\",0).replace(\"C\",1).replace(\"Q\",2)\n",
    "\n",
    "\n",
    "# In[16]:\n",
    "\n",
    "test[\"Age\"].fillna(train.Age.mean(), inplace=True)\n",
    "test[\"Fare\"].fillna(train.Fare.mean(), inplace=True)\n",
    "\n",
    "combine = [test]\n",
    "for test in combine:\n",
    "    test['Salutation'] = test.Name.str.extract(' ([A-Za-z]+)\\.', expand=False)\n",
    "for test in combine:\n",
    "    test['Salutation'] = test['Salutation'].replace(['Lady', 'Countess','Capt', 'Col',         'Don', 'Dr', 'Major', 'Rev', 'Sir', 'Jonkheer', 'Dona'], 'Rare')\n",
    "\n",
    "    test['Salutation'] = test['Salutation'].replace('Mlle', 'Miss')\n",
    "    test['Salutation'] = test['Salutation'].replace('Ms', 'Miss')\n",
    "    test['Salutation'] = test['Salutation'].replace('Mme', 'Mrs')\n",
    "    del test['Name']\n",
    "Salutation_mapping = {\"Mr\": 1, \"Miss\": 2, \"Mrs\": 3, \"Master\": 4, \"Rare\": 5}\n",
    "\n",
    "for test in combine:\n",
    "    test['Salutation'] = test['Salutation'].map(Salutation_mapping)\n",
    "    test['Salutation'] = test['Salutation'].fillna(0)\n",
    "\n",
    "for test in combine:\n",
    "        test['Ticket_Lett'] = test['Ticket'].apply(lambda x: str(x)[0])\n",
    "        test['Ticket_Lett'] = test['Ticket_Lett'].apply(lambda x: str(x))\n",
    "        test['Ticket_Lett'] = np.where((test['Ticket_Lett']).isin(['1', '2', '3', 'S', 'P', 'C', 'A']), test['Ticket_Lett'],\n",
    "                                   np.where((test['Ticket_Lett']).isin(['W', '4', '7', '6', 'L', '5', '8']),\n",
    "                                            '0', '0'))\n",
    "        test['Ticket_Len'] = test['Ticket'].apply(lambda x: len(x))\n",
    "        del test['Ticket']\n",
    "test['Ticket_Lett']=test['Ticket_Lett'].replace(\"1\",1).replace(\"2\",2).replace(\"3\",3).replace(\"0\",0).replace(\"S\",3).replace(\"P\",0).replace(\"C\",3).replace(\"A\",3) \n",
    "\n",
    "for test in combine:\n",
    "        test['Cabin_Lett'] = test['Cabin'].apply(lambda x: str(x)[0])\n",
    "        test['Cabin_Lett'] = test['Cabin_Lett'].apply(lambda x: str(x))\n",
    "        test['Cabin_Lett'] = np.where((test['Cabin_Lett']).isin(['T', 'H', 'G', 'F', 'E', 'D', 'C', 'B', 'A']),test['Cabin_Lett'],\n",
    "                                   np.where((test['Cabin_Lett']).isin(['W', '4', '7', '6', 'L', '5', '8']),\n",
    "                                            '0','0'))        \n",
    "        del test['Cabin']\n",
    "test['Cabin_Lett']=test['Cabin_Lett'].replace(\"A\",1).replace(\"B\",2).replace(\"C\",1).replace(\"0\",0).replace(\"D\",2).replace(\"E\",2).replace(\"F\",1).replace(\"G\",1) \n",
    "\n",
    "test[\"FamilySize\"] = train[\"SibSp\"] + train[\"Parch\"] + 1\n",
    "\n",
    "for test in combine:\n",
    "    test['IsAlone'] = 0\n",
    "    test.loc[test['FamilySize'] == 1, 'IsAlone'] = 1\n",
    "    \n",
    "test_data = test.values\n",
    "xs_test = test_data[:, 1:]\n",
    "\n",
    "\n",
    "# In[17]:\n",
    "'''\n",
    "from sklearn.ensemble import RandomForestClassifier\n",
    "\n",
    "random_forest=RandomForestClassifier(bootstrap=True, class_weight=None, criterion='gini',\n",
    "            max_depth=25, max_features='auto', max_leaf_nodes=None,\n",
    "            min_samples_leaf=1, min_samples_split=15,\n",
    "            min_weight_fraction_leaf=0.0, n_estimators=51, n_jobs=4,\n",
    "            oob_score=False, random_state=0, verbose=0, warm_start=False)\n",
    "\n",
    "random_forest.fit(xs, y)\n",
    "Y_pred = random_forest.predict(xs_test)\n",
    "'''\n",
    "from xgboost import XGBClassifier\n",
    "import xgboost as xgb\n",
    "from sklearn.model_selection import RandomizedSearchCV\n",
    "\n",
    "# Create the parameter grid: gbm_param_grid \n",
    "gbm_param_grid = {\n",
    "    'n_estimators': range(5, 25),\n",
    "    'max_depth': range(1, 10),\n",
    "    'learning_rate': [.1, .2, .3,.4, .45, .5, .55, .6, .65, .7],\n",
    "    'colsample_bytree': [.3,.4,.5,.6, .7, .8, .9, 1]\n",
    "}\n",
    "\n",
    "# Instantiate the regressor: gbm\n",
    "gbm = XGBClassifier(n_estimators=10)\n",
    "\n",
    "# Perform random search: grid_mse\n",
    "xgb_random = RandomizedSearchCV(param_distributions=gbm_param_grid, \n",
    "                                    estimator = gbm, scoring = \"accuracy\", \n",
    "                                    verbose = 1, n_iter = 50, cv = 4)\n",
    "\n",
    "\n",
    "# Fit randomized_mse to the data\n",
    "xgb_random.fit(xs, y)\n",
    "Y_pred = xgb_random.predict(xs_test)\n",
    "\n",
    "# Print the best parameters and lowest RMSE\n",
    "print(\"Best parameters found: \", xgb_random.best_params_)\n",
    "print(\"Best accuracy found: \", xgb_random.best_score_)\n",
    "\n",
    "import csv\n",
    "with open(\"submit.csv\", \"w\") as f:\n",
    "    writer = csv.writer(f, lineterminator='\\n')\n",
    "    writer.writerow([\"PassengerId\", \"Survived\"])\n",
    "    for pid, survived in zip(test_data[:,0].astype(int), Y_pred.astype(int)):\n",
    "        writer.writerow([pid, survived])"
   ]
  },
  {
   "cell_type": "markdown",
   "metadata": {},
   "source": [
    "# gbm "
   ]
  },
  {
   "cell_type": "code",
   "execution_count": 12,
   "metadata": {
    "collapsed": true
   },
   "outputs": [],
   "source": [
    "from sklearn.model_selection import train_test_split"
   ]
  },
  {
   "cell_type": "code",
   "execution_count": 13,
   "metadata": {
    "collapsed": false
   },
   "outputs": [],
   "source": [
    "X_train, X_test, y_train, y_test = train_test_split(xs, y, \n",
    "                                                    test_size = .3,\n",
    "                                                    random_state = 5,\n",
    "                                                   stratify = y)"
   ]
  },
  {
   "cell_type": "code",
   "execution_count": 14,
   "metadata": {
    "collapsed": true
   },
   "outputs": [],
   "source": [
    "from sklearn.ensemble import RandomForestClassifier"
   ]
  },
  {
   "cell_type": "code",
   "execution_count": 15,
   "metadata": {
    "collapsed": true
   },
   "outputs": [],
   "source": [
    "from xgboost import XGBClassifier"
   ]
  },
  {
   "cell_type": "code",
   "execution_count": 16,
   "metadata": {
    "collapsed": false
   },
   "outputs": [],
   "source": [
    "xgb = XGBClassifier()"
   ]
  },
  {
   "cell_type": "code",
   "execution_count": 17,
   "metadata": {
    "collapsed": false
   },
   "outputs": [
    {
     "data": {
      "text/plain": [
       "XGBClassifier(base_score=0.5, booster='gbtree', colsample_bylevel=1,\n",
       "       colsample_bytree=1, gamma=0, learning_rate=0.1, max_delta_step=0,\n",
       "       max_depth=3, min_child_weight=1, missing=None, n_estimators=100,\n",
       "       n_jobs=1, nthread=None, objective='binary:logistic', random_state=0,\n",
       "       reg_alpha=0, reg_lambda=1, scale_pos_weight=1, seed=None,\n",
       "       silent=True, subsample=1)"
      ]
     },
     "execution_count": 17,
     "metadata": {},
     "output_type": "execute_result"
    }
   ],
   "source": [
    "xgb.fit(X_train, y_train)"
   ]
  },
  {
   "cell_type": "code",
   "execution_count": 19,
   "metadata": {
    "collapsed": false
   },
   "outputs": [
    {
     "data": {
      "text/plain": [
       "0.86194029850746268"
      ]
     },
     "execution_count": 19,
     "metadata": {},
     "output_type": "execute_result"
    }
   ],
   "source": [
    "xgb.score(X_test, y_test)"
   ]
  },
  {
   "cell_type": "code",
   "execution_count": 20,
   "metadata": {
    "collapsed": false
   },
   "outputs": [
    {
     "data": {
      "text/plain": [
       "0.83582089552238803"
      ]
     },
     "execution_count": 20,
     "metadata": {},
     "output_type": "execute_result"
    }
   ],
   "source": [
    "from sklearn.linear_model import LogisticRegression\n",
    "lg = LogisticRegression()\n",
    "lg.fit(X_train, y_train)\n",
    "lg.score(X_test, y_test)"
   ]
  },
  {
   "cell_type": "code",
   "execution_count": 22,
   "metadata": {
    "collapsed": false
   },
   "outputs": [
    {
     "name": "stdout",
     "output_type": "stream",
     "text": [
      "Fitting 4 folds for each of 50 candidates, totalling 200 fits\n",
      "Best parameters found:  {'learning_rate': 0.45, 'colsample_bytree': 0.9, 'max_depth': 6, 'n_estimators': 13}\n",
      "Best accuracy found:  0.852974186308\n"
     ]
    },
    {
     "name": "stderr",
     "output_type": "stream",
     "text": [
      "[Parallel(n_jobs=1)]: Done 200 out of 200 | elapsed:    1.7s finished\n"
     ]
    }
   ],
   "source": [
    "import xgboost as xgb\n",
    "from sklearn.model_selection import RandomizedSearchCV\n",
    "\n",
    "# Create the parameter grid: gbm_param_grid \n",
    "gbm_param_grid = {\n",
    "    'n_estimators': range(8, 20),\n",
    "    'max_depth': range(6, 10),\n",
    "    'learning_rate': [.4, .45, .5, .55, .6],\n",
    "    'colsample_bytree': [.6, .7, .8, .9, 1]\n",
    "}\n",
    "\n",
    "# Instantiate the regressor: gbm\n",
    "gbm = XGBClassifier(n_estimators=10)\n",
    "\n",
    "# Perform random search: grid_mse\n",
    "xgb_random = RandomizedSearchCV(param_distributions=gbm_param_grid, \n",
    "                                    estimator = gbm, scoring = \"accuracy\", \n",
    "                                    verbose = 1, n_iter = 50, cv = 4)\n",
    "\n",
    "\n",
    "# Fit randomized_mse to the data\n",
    "xgb_random.fit(xs, y)\n",
    "\n",
    "# Print the best parameters and lowest RMSE\n",
    "print(\"Best parameters found: \", xgb_random.best_params_)\n",
    "print(\"Best accuracy found: \", xgb_random.best_score_)"
   ]
  },
  {
   "cell_type": "code",
   "execution_count": 30,
   "metadata": {
    "collapsed": false
   },
   "outputs": [
    {
     "ename": "NameError",
     "evalue": "name 'X_dummies' is not defined",
     "output_type": "error",
     "traceback": [
      "\u001b[0;31m---------------------------------------------------------------------------\u001b[0m",
      "\u001b[0;31mNameError\u001b[0m                                 Traceback (most recent call last)",
      "\u001b[0;32m<ipython-input-30-a2bcf9f36b0d>\u001b[0m in \u001b[0;36m<module>\u001b[0;34m()\u001b[0m\n\u001b[0;32m----> 1\u001b[0;31m \u001b[0mx_p\u001b[0m \u001b[0;34m=\u001b[0m \u001b[0mX_dummies\u001b[0m\u001b[0;34m[\u001b[0m\u001b[0mlen\u001b[0m\u001b[0;34m(\u001b[0m\u001b[0mxs\u001b[0m\u001b[0;34m)\u001b[0m\u001b[0;34m:\u001b[0m\u001b[0;34m]\u001b[0m\u001b[0;34m\u001b[0m\u001b[0m\n\u001b[0m",
      "\u001b[0;31mNameError\u001b[0m: name 'X_dummies' is not defined"
     ]
    }
   ],
   "source": [
    "x_p = X_dummies[len(xs):]"
   ]
  },
  {
   "cell_type": "code",
   "execution_count": 26,
   "metadata": {
    "collapsed": false,
    "scrolled": true
   },
   "outputs": [],
   "source": [
    "xgb_pred = xgb_random.predict(xs)"
   ]
  },
  {
   "cell_type": "code",
   "execution_count": 27,
   "metadata": {
    "collapsed": false
   },
   "outputs": [],
   "source": [
    "submission = pd.concat([test.PassengerId, pd.DataFrame(xgb_pred)], axis = 'columns')"
   ]
  },
  {
   "cell_type": "code",
   "execution_count": 28,
   "metadata": {
    "collapsed": false
   },
   "outputs": [],
   "source": [
    "submission.columns = [\"PassengerId\", \"Survived\"]"
   ]
  },
  {
   "cell_type": "code",
   "execution_count": 29,
   "metadata": {
    "collapsed": false
   },
   "outputs": [],
   "source": [
    "submission.to_csv('titanic_submission.csv', header = True, index = False)"
   ]
  },
  {
   "cell_type": "code",
   "execution_count": null,
   "metadata": {
    "collapsed": true
   },
   "outputs": [],
   "source": []
  }
 ],
 "metadata": {
  "anaconda-cloud": {},
  "kernelspec": {
   "display_name": "Python [conda root]",
   "language": "python",
   "name": "conda-root-py"
  },
  "language_info": {
   "codemirror_mode": {
    "name": "ipython",
    "version": 3
   },
   "file_extension": ".py",
   "mimetype": "text/x-python",
   "name": "python",
   "nbconvert_exporter": "python",
   "pygments_lexer": "ipython3",
   "version": "3.5.2"
  }
 },
 "nbformat": 4,
 "nbformat_minor": 1
}
